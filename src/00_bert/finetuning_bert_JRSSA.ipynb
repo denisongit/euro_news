{
 "cells": [
  {
   "cell_type": "markdown",
   "metadata": {
    "id": "_RgldLkFrrL1"
   },
   "source": [
    "# Finetuning BERT (JRSSA paper)"
   ]
  },
  {
   "cell_type": "code",
   "execution_count": null,
   "metadata": {
    "colab": {
     "base_uri": "https://localhost:8080/"
    },
    "executionInfo": {
     "elapsed": 988,
     "status": "ok",
     "timestamp": 1612045334775,
     "user": {
      "displayName": "John Hat",
      "photoUrl": "https://lh3.googleusercontent.com/a-/AOh14GgMhaTrI4_IqTkV6A88nZqB-pqXifjp6EAICL7XjA=s64",
      "userId": "03289444718923575907"
     },
     "user_tz": -60
    },
    "id": "Gw2LQFEhBEw0",
    "outputId": "610e5b8c-68a0-4e8d-fa98-c8a9c9750092"
   },
   "outputs": [],
   "source": [
    "%tensorflow_version 1.x"
   ]
  },
  {
   "cell_type": "code",
   "execution_count": null,
   "metadata": {
    "colab": {
     "base_uri": "https://localhost:8080/"
    },
    "executionInfo": {
     "elapsed": 7058,
     "status": "ok",
     "timestamp": 1612045342517,
     "user": {
      "displayName": "John Hat",
      "photoUrl": "https://lh3.googleusercontent.com/a-/AOh14GgMhaTrI4_IqTkV6A88nZqB-pqXifjp6EAICL7XjA=s64",
      "userId": "03289444718923575907"
     },
     "user_tz": -60
    },
    "id": "7864AKjDrMsa",
    "outputId": "3e3dfe51-b686-4e36-e3bb-12cb33728d5a"
   },
   "outputs": [],
   "source": [
    "!test -d bert_repo || git clone https://github.com/google-research/bert bert_repo\n",
    "\n",
    "import re\n",
    "import random\n",
    "import os\n",
    "import sys\n",
    "import json\n",
    "import pprint\n",
    "import logging\n",
    "import numpy as np\n",
    "import pandas as pd\n",
    "import tensorflow as tf\n",
    "import tensorflow_hub as hub\n",
    "\n",
    "from tensorflow import keras\n",
    "from keras.layers import Dot\n",
    "from tensorflow.keras.callbacks import ReduceLROnPlateau, ModelCheckpoint\n",
    "\n",
    "from sklearn.model_selection import train_test_split\n",
    "from google.colab import auth, drive\n",
    "\n",
    "if not 'bert_repo' in sys.path:\n",
    "    sys.path.insert(0, 'bert_repo')\n",
    "\n",
    "from modeling import BertModel, BertConfig\n",
    "from tokenization import FullTokenizer, convert_to_unicode\n",
    "from extract_features import InputExample, convert_examples_to_features\n",
    "\n",
    "\n",
    "\n",
    "# get TF logger \n",
    "log = logging.getLogger('tensorflow')\n",
    "log.handlers = []"
   ]
  },
  {
   "cell_type": "markdown",
   "metadata": {
    "id": "6aZRZgBFEzAf"
   },
   "source": [
    "Access your google Account"
   ]
  },
  {
   "cell_type": "markdown",
   "metadata": {
    "id": "dkqKH8ssRuFI"
   },
   "source": [
    "## Step 1: Get the pre-trained BERT model"
   ]
  },
  {
   "cell_type": "code",
   "execution_count": null,
   "metadata": {
    "colab": {
     "base_uri": "https://localhost:8080/"
    },
    "executionInfo": {
     "elapsed": 8712,
     "status": "ok",
     "timestamp": 1612045361878,
     "user": {
      "displayName": "John Hat",
      "photoUrl": "https://lh3.googleusercontent.com/a-/AOh14GgMhaTrI4_IqTkV6A88nZqB-pqXifjp6EAICL7XjA=s64",
      "userId": "03289444718923575907"
     },
     "user_tz": -60
    },
    "id": "9mxg4a3Y97Mt",
    "outputId": "4de886c6-2567-4aa8-9f6e-2a3dcc78059c"
   },
   "outputs": [],
   "source": [
    "!wget https://storage.googleapis.com/bert_models/2018_10_18/uncased_L-12_H-768_A-12.zip\n",
    "!unzip uncased_L-12_H-768_A-12.zip"
   ]
  },
  {
   "cell_type": "code",
   "execution_count": null,
   "metadata": {
    "colab": {
     "base_uri": "https://localhost:8080/"
    },
    "executionInfo": {
     "elapsed": 1270,
     "status": "ok",
     "timestamp": 1612045365097,
     "user": {
      "displayName": "John Hat",
      "photoUrl": "https://lh3.googleusercontent.com/a-/AOh14GgMhaTrI4_IqTkV6A88nZqB-pqXifjp6EAICL7XjA=s64",
      "userId": "03289444718923575907"
     },
     "user_tz": -60
    },
    "id": "02ElETkKE2je",
    "outputId": "5f42469c-b4b6-4b93-f0fd-1d27a3964bb5"
   },
   "outputs": [],
   "source": [
    "!git clone https://github.com/gaphex/bert_experimental\n",
    "\n",
    "sys.path.insert(0, 'bert_experimental')\n",
    "\n",
    "from bert_experimental.finetuning.text_preprocessing import build_preprocessor\n",
    "from bert_experimental.finetuning.bert_layer import BertLayer\n",
    "from bert_experimental.finetuning.modeling import BertConfig, BertModel, build_bert_module\n"
   ]
  },
  {
   "cell_type": "code",
   "execution_count": null,
   "metadata": {
    "colab": {
     "base_uri": "https://localhost:8080/"
    },
    "executionInfo": {
     "elapsed": 9601,
     "status": "ok",
     "timestamp": 1612045378309,
     "user": {
      "displayName": "John Hat",
      "photoUrl": "https://lh3.googleusercontent.com/a-/AOh14GgMhaTrI4_IqTkV6A88nZqB-pqXifjp6EAICL7XjA=s64",
      "userId": "03289444718923575907"
     },
     "user_tz": -60
    },
    "id": "d4fShtfnSQbO",
    "outputId": "29540f2c-ce90-4197-84cd-b7ab127d4ccb"
   },
   "outputs": [],
   "source": [
    "BERT_DIR = \"/content/uncased_L-12_H-768_A-12/\" #@param {type:\"string\"}\n",
    "\n",
    "build_bert_module(BERT_DIR+\"bert_config.json\",\n",
    "                  BERT_DIR+\"vocab.txt\",\n",
    "                  BERT_DIR+\"bert_model.ckpt\", \n",
    "                  \"./bert-module/\")"
   ]
  },
  {
   "cell_type": "markdown",
   "metadata": {
    "id": "IIjYf1EL_nQA"
   },
   "source": [
    "## Step 2: Load training Data"
   ]
  },
  {
   "cell_type": "markdown",
   "metadata": {
    "id": "eJF9vqwgtycK"
   },
   "source": [
    "Import data from google storage"
   ]
  },
  {
   "cell_type": "code",
   "execution_count": null,
   "metadata": {
    "id": "8QAkaa9EE3MD"
   },
   "outputs": [],
   "source": [
    "#auth google\n",
    "#from google.colab import auth\n",
    "#auth.authenticate_user()"
   ]
  },
  {
   "cell_type": "code",
   "execution_count": null,
   "metadata": {
    "colab": {
     "base_uri": "https://localhost:8080/"
    },
    "executionInfo": {
     "elapsed": 2990,
     "status": "ok",
     "timestamp": 1612030432444,
     "user": {
      "displayName": "John Hat",
      "photoUrl": "https://lh3.googleusercontent.com/a-/AOh14GgMhaTrI4_IqTkV6A88nZqB-pqXifjp6EAICL7XjA=s64",
      "userId": "03289444718923575907"
     },
     "user_tz": -60
    },
    "id": "BxRGaEW1g70T",
    "outputId": "8639033c-8a9c-45b7-c687-dc35628987c4"
   },
   "outputs": [],
   "source": [
    "#Directory = 'NNKeras' #@param {type:\"string\"}\n",
    "\n",
    "# bucket with Train file.\n",
    "#!mkdir {Directory}\n",
    "#TASK_DATA_DIR = Directory\n",
    "\n",
    "#BUCKET = 'bert_mingle' #@param {type:\"string\"}\n",
    "\n",
    "#!gsutil cp -R gs://{BUCKET}/{Directory} .\n",
    "#print('***** Task data directory: {} *****'.format(TASK_DATA_DIR))\n",
    "#!ls $TASK_DATA_DIR"
   ]
  },
  {
   "cell_type": "markdown",
   "metadata": {
    "id": "k6BanaWyuKQ-"
   },
   "source": [
    "Formatting for train and dev"
   ]
  },
  {
   "cell_type": "code",
   "execution_count": null,
   "metadata": {
    "id": "RtqfzXJYADug"
   },
   "outputs": [],
   "source": [
    "df_train = pd.read_csv(\"NNKeras/train_121.tsv\", sep='\\t')\n",
    "\n",
    "quality  = np.array(list(df_train.iloc[:, 0]), dtype=np.float)\n",
    "trY  = np.reshape(quality, (-1, 1))\n",
    "\n",
    "\n",
    "texts1 = df_train.iloc[:, 3].tolist()\n",
    "texts2 = df_train.iloc[:, 4].tolist()\n",
    "\n",
    "trX1 = np.array(texts1)\n",
    "trX2 = np.array(texts2)\n",
    "#trX1, devX1, trX2, devX2, trY, devY = train_test_split(texts1, texts2, labels, shuffle=True, test_size=0.2)"
   ]
  },
  {
   "cell_type": "code",
   "execution_count": null,
   "metadata": {
    "id": "tZDCXzz6HwLx"
   },
   "outputs": [],
   "source": [
    "df_dev = pd.read_csv(\"NNKeras/dev_121.tsv\", sep='\\t')\n",
    "\n",
    "quality  = np.array(list(df_dev.iloc[:, 0]), dtype=np.float)\n",
    "devY  = np.reshape(quality, (-1, 1))\n",
    "\n",
    "\n",
    "texts1 = df_dev.iloc[:, 3].tolist()\n",
    "texts2 = df_dev.iloc[:, 4].tolist()\n",
    "\n",
    "devX1 = np.array(texts1)\n",
    "devX2 = np.array(texts2)"
   ]
  },
  {
   "cell_type": "markdown",
   "metadata": {
    "id": "fVjC9G00HE6M"
   },
   "source": [
    "## Step 3: Build the network"
   ]
  },
  {
   "cell_type": "code",
   "execution_count": null,
   "metadata": {
    "id": "0XjTk-lqMLhA"
   },
   "outputs": [],
   "source": [
    "def cosine_similarity(tensor_pair):\n",
    "    u, v = tensor_pair\n",
    "    u = tf.math.l2_normalize(u, axis=-1)\n",
    "    v = tf.math.l2_normalize(v, axis=-1)\n",
    "    return tf.reduce_sum((u * v), axis=-1, keepdims=True)"
   ]
  },
  {
   "cell_type": "code",
   "execution_count": null,
   "metadata": {
    "colab": {
     "base_uri": "https://localhost:8080/"
    },
    "executionInfo": {
     "elapsed": 6362,
     "status": "ok",
     "timestamp": 1612030456396,
     "user": {
      "displayName": "John Hat",
      "photoUrl": "https://lh3.googleusercontent.com/a-/AOh14GgMhaTrI4_IqTkV6A88nZqB-pqXifjp6EAICL7XjA=s64",
      "userId": "03289444718923575907"
     },
     "user_tz": -60
    },
    "id": "5BQLsvYzaysD",
    "outputId": "d60d8c84-c43d-4577-eb31-c29870db92d1"
   },
   "outputs": [],
   "source": [
    "inp1 = tf.keras.Input(shape=(1,), dtype=tf.string)\n",
    "inp2 = tf.keras.Input(shape=(1,), dtype=tf.string)\n",
    "\n",
    "encoder = BertLayer(bert_path=\"./bert-module/\", seq_len=48, do_preprocessing=True,\n",
    "                             verbose=False, pooling=\"mean\", trainable=True, n_tune_layers=2,tune_embeddings=False)\n",
    "\n",
    "\n",
    "h1 = tf.keras.layers.Dense(50, activation='relu')(encoder(inp1))\n",
    "h1 = tf.keras.layers.Dropout(0.1)(h1)\n",
    "\n",
    "h2 = tf.keras.layers.Dense(50, activation='relu')(encoder(inp2))\n",
    "h2 = tf.keras.layers.Dropout(0.1)(h2)\n",
    "\n",
    "pred = tf.keras.layers.Lambda(cosine_similarity, name='similarity')([h1, h2])\n",
    "model = tf.keras.models.Model(inputs=[inp1, inp2], outputs=[pred]) \n"
   ]
  },
  {
   "cell_type": "code",
   "execution_count": null,
   "metadata": {
    "id": "wxuy1OMCbGTw"
   },
   "outputs": [],
   "source": [
    "model.compile(\n",
    "      optimizer=tf.keras.optimizers.Adam(learning_rate=2e-5, ),\n",
    "      loss=\"binary_crossentropy\",\n",
    "      metrics=[\"accuracy\"])"
   ]
  },
  {
   "cell_type": "code",
   "execution_count": null,
   "metadata": {
    "colab": {
     "base_uri": "https://localhost:8080/"
    },
    "executionInfo": {
     "elapsed": 623,
     "status": "ok",
     "timestamp": 1612030467030,
     "user": {
      "displayName": "John Hat",
      "photoUrl": "https://lh3.googleusercontent.com/a-/AOh14GgMhaTrI4_IqTkV6A88nZqB-pqXifjp6EAICL7XjA=s64",
      "userId": "03289444718923575907"
     },
     "user_tz": -60
    },
    "id": "ufWo4CMaaBn8",
    "outputId": "a6dc5912-717e-48e6-dc4e-68713c4511cb"
   },
   "outputs": [],
   "source": [
    "model.summary()"
   ]
  },
  {
   "cell_type": "markdown",
   "metadata": {
    "id": "0V7AbjTBifTl"
   },
   "source": [
    "## Step 4: Train the network"
   ]
  },
  {
   "cell_type": "code",
   "execution_count": null,
   "metadata": {
    "id": "2lbagCxaieoG"
   },
   "outputs": [],
   "source": [
    "import logging\n",
    "logging.getLogger(\"tensorflow\").setLevel(logging.WARNING)"
   ]
  },
  {
   "cell_type": "code",
   "execution_count": null,
   "metadata": {
    "colab": {
     "base_uri": "https://localhost:8080/"
    },
    "executionInfo": {
     "elapsed": 4955139,
     "status": "ok",
     "timestamp": 1612035433115,
     "user": {
      "displayName": "John Hat",
      "photoUrl": "https://lh3.googleusercontent.com/a-/AOh14GgMhaTrI4_IqTkV6A88nZqB-pqXifjp6EAICL7XjA=s64",
      "userId": "03289444718923575907"
     },
     "user_tz": -60
    },
    "id": "z6svZ93niek0",
    "outputId": "2226543a-7498-457d-aa43-e41893e5ff8b"
   },
   "outputs": [],
   "source": [
    "es_callback = keras.callbacks.EarlyStopping(monitor='val_loss', patience=2, verbose=1)\n",
    "saver = keras.callbacks.ModelCheckpoint(\"bert_tuned_V1.hdf5\")\n",
    "# Train the model with the new callback\n",
    "model.summary()\n",
    "model.fit([trX1,trX2], trY, validation_data=([devX1, devX2],devY), batch_size=32, epochs=5, callbacks=[es_callback])\n"
   ]
  },
  {
   "cell_type": "code",
   "execution_count": null,
   "metadata": {
    "colab": {
     "base_uri": "https://localhost:8080/",
     "height": 533
    },
    "executionInfo": {
     "elapsed": 1087,
     "status": "ok",
     "timestamp": 1612035650742,
     "user": {
      "displayName": "John Hat",
      "photoUrl": "https://lh3.googleusercontent.com/a-/AOh14GgMhaTrI4_IqTkV6A88nZqB-pqXifjp6EAICL7XjA=s64",
      "userId": "03289444718923575907"
     },
     "user_tz": -60
    },
    "id": "Q6wSt2HIxhkF",
    "outputId": "e1b5943d-1306-4b6c-e621-e77ccd1e52dc"
   },
   "outputs": [],
   "source": [
    "from tensorflow.keras.utils import plot_model\n",
    "plot_model(model,show_shapes=True)"
   ]
  },
  {
   "cell_type": "markdown",
   "metadata": {
    "id": "-rivD55Qc85D"
   },
   "source": [
    "## Step 5: Test the model"
   ]
  },
  {
   "cell_type": "code",
   "execution_count": null,
   "metadata": {
    "colab": {
     "base_uri": "https://localhost:8080/"
    },
    "executionInfo": {
     "elapsed": 706,
     "status": "ok",
     "timestamp": 1612035653836,
     "user": {
      "displayName": "John Hat",
      "photoUrl": "https://lh3.googleusercontent.com/a-/AOh14GgMhaTrI4_IqTkV6A88nZqB-pqXifjp6EAICL7XjA=s64",
      "userId": "03289444718923575907"
     },
     "user_tz": -60
    },
    "id": "2lO4IdlFMOwj",
    "outputId": "bc9ee71e-14a8-46c8-d2bc-18743d1c018e"
   },
   "outputs": [],
   "source": [
    "df_test = pd.read_csv(\"NNKeras/test_121.tsv\", sep='\\t')\n",
    "print(df_test.shape)\n",
    "\n",
    "quality  = np.array(list(df_test.iloc[:,0]), dtype=np.float)\n",
    "testY  = np.reshape(quality, (-1, 1))\n",
    "\n",
    "texts1 = df_test.iloc[:, 3].tolist()\n",
    "texts2 = df_test.iloc[:, 4].tolist()\n",
    "\n",
    "testX1 = np.array(texts1)\n",
    "testX2 = np.array(texts2)"
   ]
  },
  {
   "cell_type": "code",
   "execution_count": null,
   "metadata": {
    "colab": {
     "base_uri": "https://localhost:8080/"
    },
    "executionInfo": {
     "elapsed": 208306,
     "status": "ok",
     "timestamp": 1612035867151,
     "user": {
      "displayName": "John Hat",
      "photoUrl": "https://lh3.googleusercontent.com/a-/AOh14GgMhaTrI4_IqTkV6A88nZqB-pqXifjp6EAICL7XjA=s64",
      "userId": "03289444718923575907"
     },
     "user_tz": -60
    },
    "id": "EvP5L_5vQVtD",
    "outputId": "d70d3fcf-72cb-422f-86b8-e474af5508d9"
   },
   "outputs": [],
   "source": [
    "score = model.evaluate([testX1,testX2],testY)  ### on donne maintenant à notre réseau les données de test qu'il n'a jamais vues et on considère sa performance sur ces données\n",
    "print('Test score:', score[0])\n",
    "print('Test accuracy:', score[1])\n"
   ]
  },
  {
   "cell_type": "markdown",
   "metadata": {
    "id": "8xAtP-8zd7PN"
   },
   "source": [
    "## Step 6: Save the model"
   ]
  },
  {
   "cell_type": "code",
   "execution_count": null,
   "metadata": {
    "id": "acrgNttL12CX"
   },
   "outputs": [],
   "source": [
    "from tensorflow.python.framework.graph_util import convert_variables_to_constants\n",
    "from tensorflow.python.tools.optimize_for_inference_lib import optimize_for_inference\n",
    "\n",
    "def freeze_keras_model(model, export_path=None, clear_devices=True):\n",
    "    \"\"\"\n",
    "    Freezes a Keras model into a pruned computation graph.\n",
    "\n",
    "    @param model The Keras model to be freezed.\n",
    "    @param clear_devices Remove the device directives from the graph for better portability.\n",
    "    @return The frozen graph definition.\n",
    "    \"\"\"\n",
    "    \n",
    "    sess = tf.keras.backend.get_session()\n",
    "    graph = sess.graph\n",
    "    \n",
    "    with graph.as_default():\n",
    "\n",
    "        input_tensors = model.inputs\n",
    "        output_tensors = model.outputs\n",
    "        dtypes = [t.dtype.as_datatype_enum for t in input_tensors]\n",
    "        input_ops = [t.name.rsplit(\":\", maxsplit=1)[0] for t in input_tensors]\n",
    "        output_ops = [t.name.rsplit(\":\", maxsplit=1)[0] for t in output_tensors]\n",
    "        \n",
    "        tmp_g = graph.as_graph_def()\n",
    "        if clear_devices:\n",
    "            for node in tmp_g.node:\n",
    "                node.device = \"\"\n",
    "        \n",
    "        tmp_g = optimize_for_inference(\n",
    "            tmp_g, input_ops, output_ops, dtypes, False)\n",
    "        \n",
    "        tmp_g = convert_variables_to_constants(sess, tmp_g, output_ops)\n",
    "        \n",
    "        if export_path is not None:\n",
    "            with tf.gfile.GFile(export_path, \"wb\") as f:\n",
    "                f.write(tmp_g.SerializeToString())\n",
    "        \n",
    "        return tmp_g"
   ]
  },
  {
   "cell_type": "code",
   "execution_count": null,
   "metadata": {
    "id": "4lILv7tf13ne"
   },
   "outputs": [],
   "source": [
    "frozen_graph = freeze_keras_model(model, export_path=\"frozen_graph_121_mod2.pb\")"
   ]
  },
  {
   "cell_type": "code",
   "execution_count": null,
   "metadata": {
    "colab": {
     "base_uri": "https://localhost:8080/"
    },
    "executionInfo": {
     "elapsed": 2080,
     "status": "ok",
     "timestamp": 1612035931161,
     "user": {
      "displayName": "John Hat",
      "photoUrl": "https://lh3.googleusercontent.com/a-/AOh14GgMhaTrI4_IqTkV6A88nZqB-pqXifjp6EAICL7XjA=s64",
      "userId": "03289444718923575907"
     },
     "user_tz": -60
    },
    "id": "WNsSsD8QPSGT",
    "outputId": "40fb1913-73dd-47cc-b516-c76055fff712"
   },
   "outputs": [],
   "source": [
    "#!gsutil cp -R gs://mann_bucket/model/frozen_graph_121_mod2.pb ."
   ]
  },
  {
   "cell_type": "code",
   "execution_count": null,
   "metadata": {
    "colab": {
     "base_uri": "https://localhost:8080/"
    },
    "executionInfo": {
     "elapsed": 12085,
     "status": "ok",
     "timestamp": 1612035976999,
     "user": {
      "displayName": "John Hat",
      "photoUrl": "https://lh3.googleusercontent.com/a-/AOh14GgMhaTrI4_IqTkV6A88nZqB-pqXifjp6EAICL7XjA=s64",
      "userId": "03289444718923575907"
     },
     "user_tz": -60
    },
    "id": "YOC-6Rdd98qq",
    "outputId": "ca3911e3-9c95-46f1-9fe1-bc8676f672b2"
   },
   "outputs": [],
   "source": [
    "#!gsutil cp -r 'frozen_graph_121_mod2.pb' gs://mann_bucket/model"
   ]
  }
 ],
 "metadata": {
  "accelerator": "GPU",
  "colab": {
   "collapsed_sections": [],
   "name": "finetuning_bert_JRSSA.ipynb",
   "provenance": [
    {
     "file_id": "1ZPTvwWF05YamdIj42q1hhuriLoszfmeh",
     "timestamp": 1612045217058
    },
    {
     "file_id": "19SFopZmLmIvLXiwwpkVEv2k8VXRqOqPj",
     "timestamp": 1602078684299
    },
    {
     "file_id": "1RiUKylK6OrYPfZW2Vff_PPVf_VGhgv3v",
     "timestamp": 1592567658831
    },
    {
     "file_id": "1BaPYcE6Sp5dsfDOdzctUj2FWTHgA47-J",
     "timestamp": 1592387108727
    },
    {
     "file_id": "https://gist.github.com/Respondi/0f12002265bc7c75db7aee1a5fc7bd2d#file-finetuning-bert-with-keras-and-tf-module-ipynb",
     "timestamp": 1578909672211
    }
   ],
   "toc_visible": true
  },
  "kernelspec": {
   "display_name": "Python 3",
   "language": "python",
   "name": "python3"
  },
  "language_info": {
   "codemirror_mode": {
    "name": "ipython",
    "version": 3
   },
   "file_extension": ".py",
   "mimetype": "text/x-python",
   "name": "python",
   "nbconvert_exporter": "python",
   "pygments_lexer": "ipython3",
   "version": "3.6.4"
  }
 },
 "nbformat": 4,
 "nbformat_minor": 1
}
