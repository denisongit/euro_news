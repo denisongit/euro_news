{
 "cells": [
  {
   "cell_type": "markdown",
   "metadata": {
    "id": "IbzPJ3xBWcL-"
   },
   "source": [
    "# Get BERT vectors from a BERT model"
   ]
  },
  {
   "cell_type": "code",
   "execution_count": null,
   "metadata": {
    "colab": {
     "base_uri": "https://localhost:8080/"
    },
    "executionInfo": {
     "elapsed": 934,
     "status": "ok",
     "timestamp": 1612045723686,
     "user": {
      "displayName": "John Hat",
      "photoUrl": "https://lh3.googleusercontent.com/a-/AOh14GgMhaTrI4_IqTkV6A88nZqB-pqXifjp6EAICL7XjA=s64",
      "userId": "03289444718923575907"
     },
     "user_tz": -60
    },
    "id": "WI033aaanuQ3",
    "outputId": "e88a7393-784f-43a8-d43a-bf12542b4009"
   },
   "outputs": [],
   "source": [
    "%tensorflow_version 1.x"
   ]
  },
  {
   "cell_type": "code",
   "execution_count": null,
   "metadata": {
    "colab": {
     "base_uri": "https://localhost:8080/"
    },
    "executionInfo": {
     "elapsed": 6190,
     "status": "ok",
     "timestamp": 1612045768060,
     "user": {
      "displayName": "John Hat",
      "photoUrl": "https://lh3.googleusercontent.com/a-/AOh14GgMhaTrI4_IqTkV6A88nZqB-pqXifjp6EAICL7XjA=s64",
      "userId": "03289444718923575907"
     },
     "user_tz": -60
    },
    "id": "Hzeyi1Moxxrn",
    "outputId": "1b1c2ad8-a5b5-4af9-e4f8-89be2a63c9d3"
   },
   "outputs": [],
   "source": [
    "!git clone https://github.com/gaphex/bert_experimental/\n",
    "\n",
    "import tensorflow as tf\n",
    "import numpy as np\n",
    "import sys\n",
    "import pandas as pd\n",
    "import random\n",
    "\n",
    "\n",
    "\n",
    "sys.path.insert(0, \"/content/bert_experimental\")\n",
    "\n",
    "from bert_experimental.finetuning.text_preprocessing import build_preprocessor\n",
    "from bert_experimental.finetuning.graph_ops import load_graph"
   ]
  },
  {
   "cell_type": "code",
   "execution_count": null,
   "metadata": {
    "colab": {
     "base_uri": "https://localhost:8080/"
    },
    "executionInfo": {
     "elapsed": 616,
     "status": "ok",
     "timestamp": 1612045770972,
     "user": {
      "displayName": "John Hat",
      "photoUrl": "https://lh3.googleusercontent.com/a-/AOh14GgMhaTrI4_IqTkV6A88nZqB-pqXifjp6EAICL7XjA=s64",
      "userId": "03289444718923575907"
     },
     "user_tz": -60
    },
    "id": "p3Lfqkffn1f1",
    "outputId": "a0042447-92f3-4221-ce51-5605d6edeff9"
   },
   "outputs": [],
   "source": [
    "print(tf.__version__)"
   ]
  },
  {
   "cell_type": "code",
   "execution_count": null,
   "metadata": {
    "colab": {
     "base_uri": "https://localhost:8080/"
    },
    "executionInfo": {
     "elapsed": 6368,
     "status": "ok",
     "timestamp": 1612045780697,
     "user": {
      "displayName": "John Hat",
      "photoUrl": "https://lh3.googleusercontent.com/a-/AOh14GgMhaTrI4_IqTkV6A88nZqB-pqXifjp6EAICL7XjA=s64",
      "userId": "03289444718923575907"
     },
     "user_tz": -60
    },
    "id": "s9uHvA3_zVPR",
    "outputId": "9054dc61-061c-40ee-8e8b-e9b7e2a56b35"
   },
   "outputs": [],
   "source": [
    "!wget https://storage.googleapis.com/bert_models/2018_10_18/uncased_L-12_H-768_A-12.zip\n",
    "!unzip uncased_L-12_H-768_A-12.zip"
   ]
  },
  {
   "cell_type": "code",
   "execution_count": null,
   "metadata": {
    "executionInfo": {
     "elapsed": 18524,
     "status": "ok",
     "timestamp": 1612045802422,
     "user": {
      "displayName": "John Hat",
      "photoUrl": "https://lh3.googleusercontent.com/a-/AOh14GgMhaTrI4_IqTkV6A88nZqB-pqXifjp6EAICL7XjA=s64",
      "userId": "03289444718923575907"
     },
     "user_tz": -60
    },
    "id": "jD5sSzMVx5Ka"
   },
   "outputs": [],
   "source": [
    "#auth google\n",
    "#from google.colab import auth\n",
    "#auth.authenticate_user()"
   ]
  },
  {
   "cell_type": "code",
   "execution_count": null,
   "metadata": {
    "colab": {
     "base_uri": "https://localhost:8080/"
    },
    "executionInfo": {
     "elapsed": 8531,
     "status": "ok",
     "timestamp": 1612045814026,
     "user": {
      "displayName": "John Hat",
      "photoUrl": "https://lh3.googleusercontent.com/a-/AOh14GgMhaTrI4_IqTkV6A88nZqB-pqXifjp6EAICL7XjA=s64",
      "userId": "03289444718923575907"
     },
     "user_tz": -60
    },
    "id": "Cyd2DPgAyJWo",
    "outputId": "c1901205-9d68-47b1-fbbd-2f4108e4d90d"
   },
   "outputs": [],
   "source": [
    "#!gsutil cp -R gs://mann_bucket/model/frozen_graph_121_mod2.pb .\n"
   ]
  },
  {
   "cell_type": "code",
   "execution_count": null,
   "metadata": {
    "colab": {
     "base_uri": "https://localhost:8080/",
     "height": 72,
     "resources": {
      "http://localhost:8080/nbextensions/google.colab/files.js": {
       "data": "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",
       "headers": [
        [
         "content-type",
         "application/javascript"
        ]
       ],
       "ok": true,
       "status": 200,
       "status_text": "OK"
      }
     }
    },
    "executionInfo": {
     "elapsed": 82849,
     "status": "ok",
     "timestamp": 1612045895214,
     "user": {
      "displayName": "John Hat",
      "photoUrl": "https://lh3.googleusercontent.com/a-/AOh14GgMhaTrI4_IqTkV6A88nZqB-pqXifjp6EAICL7XjA=s64",
      "userId": "03289444718923575907"
     },
     "user_tz": -60
    },
    "id": "dWqE4dq_z9oh",
    "outputId": "d41140a3-b088-4379-c304-eb92ff2119c8"
   },
   "outputs": [],
   "source": [
    "#!gsutil cp -R gs://mann_bucket/data1.csv .\n",
    "from google.colab import files\n",
    "uploaded = files.upload()\n"
   ]
  },
  {
   "cell_type": "code",
   "execution_count": null,
   "metadata": {
    "colab": {
     "base_uri": "https://localhost:8080/",
     "height": 225
    },
    "executionInfo": {
     "elapsed": 639,
     "status": "ok",
     "timestamp": 1612045978232,
     "user": {
      "displayName": "John Hat",
      "photoUrl": "https://lh3.googleusercontent.com/a-/AOh14GgMhaTrI4_IqTkV6A88nZqB-pqXifjp6EAICL7XjA=s64",
      "userId": "03289444718923575907"
     },
     "user_tz": -60
    },
    "id": "NWaKgQvMi9x2",
    "outputId": "34171115-fec4-4607-e5fd-90ad2fc1e906"
   },
   "outputs": [],
   "source": [
    "df = pd.read_csv(\"dictionary.csv\",sep=\";\",header = 0,encoding = \"UTF-8\")\n",
    "colName = 'title' #@param {type:\"string\"}\n",
    "#df = df[[colName]]\n",
    "print('df -- ',df.shape)\n",
    "df.head()"
   ]
  },
  {
   "cell_type": "code",
   "execution_count": null,
   "metadata": {
    "colab": {
     "base_uri": "https://localhost:8080/"
    },
    "executionInfo": {
     "elapsed": 2788,
     "status": "ok",
     "timestamp": 1612045992452,
     "user": {
      "displayName": "John Hat",
      "photoUrl": "https://lh3.googleusercontent.com/a-/AOh14GgMhaTrI4_IqTkV6A88nZqB-pqXifjp6EAICL7XjA=s64",
      "userId": "03289444718923575907"
     },
     "user_tz": -60
    },
    "id": "ps2VXDgfSgtp",
    "outputId": "f911e06b-8975-4c4f-e1f9-c3e776d9b730"
   },
   "outputs": [],
   "source": [
    "\n",
    "restored_graph = load_graph(\"frozen_graph_121_mod2.pb\")\n",
    "\n",
    "graph_ops = restored_graph.get_operations()\n",
    "input_op, output_op = graph_ops[1].name, graph_ops[3068].name\n",
    "print(input_op, output_op)\n",
    "x = restored_graph.get_tensor_by_name(input_op + ':0')\n",
    "y = restored_graph.get_tensor_by_name(output_op + ':0')\n",
    "preprocessor = build_preprocessor(\"./uncased_L-12_H-768_A-12/vocab.txt\", 64)"
   ]
  },
  {
   "cell_type": "code",
   "execution_count": null,
   "metadata": {
    "colab": {
     "base_uri": "https://localhost:8080/"
    },
    "executionInfo": {
     "elapsed": 619,
     "status": "ok",
     "timestamp": 1612045998309,
     "user": {
      "displayName": "John Hat",
      "photoUrl": "https://lh3.googleusercontent.com/a-/AOh14GgMhaTrI4_IqTkV6A88nZqB-pqXifjp6EAICL7XjA=s64",
      "userId": "03289444718923575907"
     },
     "user_tz": -60
    },
    "id": "5D85JauGiLTA",
    "outputId": "7c4c16ba-20db-4837-aead-24384a049a4a"
   },
   "outputs": [],
   "source": [
    "print(graph_ops)"
   ]
  },
  {
   "cell_type": "code",
   "execution_count": null,
   "metadata": {
    "executionInfo": {
     "elapsed": 545,
     "status": "ok",
     "timestamp": 1612046001787,
     "user": {
      "displayName": "John Hat",
      "photoUrl": "https://lh3.googleusercontent.com/a-/AOh14GgMhaTrI4_IqTkV6A88nZqB-pqXifjp6EAICL7XjA=s64",
      "userId": "03289444718923575907"
     },
     "user_tz": -60
    },
    "id": "8j5nTxODQqVr"
   },
   "outputs": [],
   "source": [
    "def index_marks(nrows, chunk_size):\n",
    "    return range(1 * chunk_size, (nrows // chunk_size + 1) * chunk_size, chunk_size)\n",
    "\n",
    "def split(dfm, chunk_size):\n",
    "    indices = index_marks(dfm.shape[0], chunk_size)\n",
    "    return np.split(dfm, indices)"
   ]
  },
  {
   "cell_type": "code",
   "execution_count": null,
   "metadata": {
    "executionInfo": {
     "elapsed": 634,
     "status": "ok",
     "timestamp": 1612046004454,
     "user": {
      "displayName": "John Hat",
      "photoUrl": "https://lh3.googleusercontent.com/a-/AOh14GgMhaTrI4_IqTkV6A88nZqB-pqXifjp6EAICL7XjA=s64",
      "userId": "03289444718923575907"
     },
     "user_tz": -60
    },
    "id": "lbTgJfirO8JE"
   },
   "outputs": [],
   "source": [
    "def bert_encode(d):\n",
    "    \n",
    "    print(\"Shape: {}; {}\".format(d.shape, d.index))\n",
    "    sentences = []\n",
    "    for strObj in d['title']:\n",
    "        sentences.append(strObj)\n",
    "#    Bert as a service\n",
    "    py_func = tf.numpy_function(preprocessor, [x], [tf.int32, tf.int32, tf.int32], name='preprocessor')\n",
    "    py_func = tf.numpy_function(preprocessor, [x], [tf.int32, tf.int32, tf.int32])\n",
    "    with tf.Session(graph=restored_graph) as sess :\n",
    "        py_func = tf.numpy_function(preprocessor, [x], [tf.int32, tf.int32, tf.int32], name='preprocessor')\n",
    "        py_func = tf.numpy_function(preprocessor, [x], [tf.int32, tf.int32, tf.int32])    \n",
    "        vectors = sess.run(y, feed_dict={\n",
    "                x: np.array(sentences).reshape(-1,1)\n",
    "            })\n",
    "    if (len(sentences) != len(vectors)):\n",
    "        print(sentences)\n",
    "    \n",
    "    \n",
    "    cols = [None] * 50\n",
    "    cols[0:50] = ('X' + str(s) for s in range(1,51))\n",
    "    res = pd.DataFrame(vectors, columns = cols)\n",
    "    return res"
   ]
  },
  {
   "cell_type": "code",
   "execution_count": null,
   "metadata": {
    "colab": {
     "base_uri": "https://localhost:8080/"
    },
    "executionInfo": {
     "elapsed": 544015,
     "status": "ok",
     "timestamp": 1612046550729,
     "user": {
      "displayName": "John Hat",
      "photoUrl": "https://lh3.googleusercontent.com/a-/AOh14GgMhaTrI4_IqTkV6A88nZqB-pqXifjp6EAICL7XjA=s64",
      "userId": "03289444718923575907"
     },
     "user_tz": -60
    },
    "id": "MxjBURe-RRUF",
    "outputId": "ad5be932-5278-4865-db37-a78e13585feb"
   },
   "outputs": [],
   "source": [
    "import datetime\n",
    "max_seq_len = min(1000, len(df.index))\n",
    "\n",
    "print('df -- ',df.shape)\n",
    "\n",
    "indices = list(index_marks(df.shape[0], max_seq_len))\n",
    "print(\"Marks: {}\".format(indices))\n",
    "\n",
    "chunks = split(df, max_seq_len)\n",
    "   \n",
    "for i in range(0, len(chunks)):\n",
    "    startTime = datetime.datetime.now()\n",
    "    print(i)\n",
    "    if i == 0 :\n",
    "        res = bert_encode(chunks[i])\n",
    "    else :\n",
    "        res = res.append(bert_encode(chunks[i]))\n",
    "    print(\"total time taken: \", str(datetime.datetime.now()-startTime))\n",
    "dff = pd.concat([df.reset_index(drop=True), res.reset_index(drop=True)], axis=1)\n",
    "  \n",
    "  \n",
    "#dff.drop_duplicates(keep=False,inplace=True)\n",
    "print('result -- ',dff.shape)"
   ]
  },
  {
   "cell_type": "code",
   "execution_count": null,
   "metadata": {
    "executionInfo": {
     "elapsed": 635,
     "status": "ok",
     "timestamp": 1612046697743,
     "user": {
      "displayName": "John Hat",
      "photoUrl": "https://lh3.googleusercontent.com/a-/AOh14GgMhaTrI4_IqTkV6A88nZqB-pqXifjp6EAICL7XjA=s64",
      "userId": "03289444718923575907"
     },
     "user_tz": -60
    },
    "id": "t2_97bwanQTZ"
   },
   "outputs": [],
   "source": [
    "dff['code']=df['code']\n",
    "dff = dff.filter(regex='^((?!title).)*$')"
   ]
  },
  {
   "cell_type": "code",
   "execution_count": null,
   "metadata": {
    "colab": {
     "base_uri": "https://localhost:8080/"
    },
    "executionInfo": {
     "elapsed": 8966,
     "status": "ok",
     "timestamp": 1612046738337,
     "user": {
      "displayName": "John Hat",
      "photoUrl": "https://lh3.googleusercontent.com/a-/AOh14GgMhaTrI4_IqTkV6A88nZqB-pqXifjp6EAICL7XjA=s64",
      "userId": "03289444718923575907"
     },
     "user_tz": -60
    },
    "id": "uos_Lab3MViv",
    "outputId": "c2930519-0cd7-48ec-d9ed-0d3dabf6505f"
   },
   "outputs": [],
   "source": [
    "dff.to_csv(\"result_bert_encode_121_mod2.csv.gz\",sep=\";\",encoding=\"UTF-8\",index = False, compression = 'gzip') \n",
    "#from google.colab import files\n",
    "#files.download('result_bert_encode.csv.gz')\n",
    "#!gsutil cp -r 'mann_frozen_graph.pb' gs://mann_bucket/model\n",
    "#!gsutil cp -r 'result_bert_encode_121_mod2.csv.gz' gs://mann_bucket"
   ]
  }
 ],
 "metadata": {
  "accelerator": "GPU",
  "colab": {
   "collapsed_sections": [],
   "name": "restore_bert_model_JRSSA.ipynb",
   "provenance": [
    {
     "file_id": "1FEmSX0NSyCGIN0RQkrCc2QlEK79JrAM4",
     "timestamp": 1611854705165
    },
    {
     "file_id": "1Va-827zP9GsBYEfCOV62QtBWFaw7hcTz",
     "timestamp": 1611844314194
    }
   ]
  },
  "kernelspec": {
   "display_name": "Python 3",
   "language": "python",
   "name": "python3"
  },
  "language_info": {
   "codemirror_mode": {
    "name": "ipython",
    "version": 3
   },
   "file_extension": ".py",
   "mimetype": "text/x-python",
   "name": "python",
   "nbconvert_exporter": "python",
   "pygments_lexer": "ipython3",
   "version": "3.6.4"
  }
 },
 "nbformat": 4,
 "nbformat_minor": 1
}
